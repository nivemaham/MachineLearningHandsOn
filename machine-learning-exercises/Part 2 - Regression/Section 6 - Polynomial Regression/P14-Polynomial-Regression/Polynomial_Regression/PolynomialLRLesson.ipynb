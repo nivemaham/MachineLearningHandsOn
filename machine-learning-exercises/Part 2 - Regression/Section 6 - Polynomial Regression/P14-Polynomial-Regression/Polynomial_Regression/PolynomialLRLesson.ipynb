{
 "cells": [
  {
   "cell_type": "code",
   "execution_count": null,
   "metadata": {},
   "outputs": [],
   "source": []
  },
  {
   "cell_type": "code",
   "execution_count": 30,
   "metadata": {},
   "outputs": [
    {
     "name": "stdout",
     "output_type": "stream",
     "text": [
      "Writing polynomialRegressionLesson.py\n"
     ]
    }
   ],
   "source": [
    "#%%writefile polynomialRegressionLesson.py\n",
    "# %load data_preprocessing_template.py\n",
    "# Importing the libraries\n",
    "import numpy as np\n",
    "import matplotlib.pyplot as plt\n",
    "import pandas as pd\n",
    "\n",
    "# Importing the dataset\n",
    "dataset = pd.read_csv('Position_Salaries.csv')\n",
    "\n",
    "# X = dataset.iloc[:, 1].values This makes the output of the function an array. but for ML model we want to have a vector\n",
    "X = dataset.iloc[:, 1:2].values # this makes the same data into a vector instead of an array.\n",
    "y = dataset.iloc[:, 2].values\n",
    "\n",
    "# We SHOULD encode categorical varibles BEFORE splitting. \n",
    "# Encoding categorical data\n",
    "# Encoding the Independent Variable\n",
    "from sklearn.preprocessing import LabelEncoder, OneHotEncoder\n",
    "# labelencoder_X = LabelEncoder()\n",
    "# X[:, 3] = labelencoder_X.fit_transform(X[:, 3])\n",
    "# onehotencoder = OneHotEncoder(categorical_features = [3])\n",
    "# X = onehotencoder.fit_transform(X).toarray()\n",
    "\n",
    "# # avoiding DUMMY VARIABLE TRAP. Remove one of the dummy var column\n",
    "# X = X[:, 1:]\n",
    "\n",
    "# # NOTE: Current, python lib takes care of avoiding dummy var trap by default. SO don't need to do it manually. \n",
    "\n",
    "# # Splitting the dataset into the Training set and Test set\n",
    "# from sklearn.model_selection import train_test_split\n",
    "# X_train, X_test, y_train, y_test = train_test_split(X, y, test_size = 0.2, random_state = 0)\n",
    "\n",
    "# We cannot split the data here, since we have very little amount of data so we will use all of the data to predict\n",
    "\n",
    "# ------------- READY WITH DATA PREPROCESSING FOR THIS LEARNING----------------#\n",
    "\n",
    "# STEP 1: Fitting the data into a multiple linear regression\n",
    "from sklearn.linear_model import LinearRegression\n",
    "linearRegressor = LinearRegression()\n",
    "linearRegressor.fit(X, y)\n",
    "\n",
    "# We have TWO steps here. 1st we will create a LR, then we will add some Polynomial features to the existing regressor\n",
    "# STEP 2: Fitting polynomial regression to the dataset\n",
    "from sklearn.preprocessing import PolynomialFeatures\n",
    "polynomialRegressor = PolynomialFeatures(degree=2)\n",
    "X_polynomial = polynomialRegressor.fit_transform(X) # we want to fit the X, then transform it into a polynimial vector.\n",
    "\n",
    "X_polynomial # it has bo +b1*x1 + b2*X1^2\n",
    "\n",
    "# STEP 3: Fitting the newly created polynomial model into a Linear Regressor\n",
    "polyLinearRegressor = LinearRegression()\n",
    "polyLinearRegressor.fit(X_polynomial, y)\n",
    "\n",
    "# STEP 4: Visualizing the Linear Regressor\n",
    "plt.scatter(X,y, color='blue')\n",
    "plt.plot(X, linearRegressor.predict(X), color='black')\n",
    "plt.plot(X, polyLinearRegressor.predict(X_polynomial), color='Orange')\n",
    "\n",
    "# STEP 5: Try changing the DEGREE of the polynomialFeatures\n",
    "polynomialRegressor = PolynomialFeatures(degree=3)\n",
    "X_polynomial3 = polynomialRegressor.fit_transform(X)\n",
    "polyLinearRegressor.fit(X_polynomial3, y)\n",
    "plt.plot(X, polyLinearRegressor.predict(X_polynomial3), color='pink')\n",
    "\n",
    "polynomialRegressor = PolynomialFeatures(degree=4)\n",
    "X_polynomial3 = polynomialRegressor.fit_transform(X)\n",
    "polyLinearRegressor.fit(X_polynomial3, y)\n",
    "plt.plot(X, polyLinearRegressor.predict(X_polynomial3), color='green')\n",
    "\n",
    "\n",
    "# STEP 6: Change the resolution of X\n",
    "X_grid = np.arange(min(X), max(X), 0.1)\n",
    "X_grid = X_grid.reshape((len(X_grid), 1))\n",
    "plt.plot(X_grid, polyLinearRegressor.predict(polynomialRegressor.fit_transform(X_grid)), color='red')\n",
    "\n",
    "\n",
    "# ------------- PREDICT SALARY FROM THE MODEL---------------------------#\n",
    "\n",
    "salaryLinear = linearRegressor.predict([[6.5]])\n",
    "salaryPoly = polyLinearRegressor.predict(polynomialRegressor.fit_transform(np.array(6.5).reshape(-1,1)))\n",
    "\n"
   ]
  }
 ],
 "metadata": {
  "kernelspec": {
   "display_name": "Python 3",
   "language": "python",
   "name": "python3"
  },
  "language_info": {
   "codemirror_mode": {
    "name": "ipython",
    "version": 3
   },
   "file_extension": ".py",
   "mimetype": "text/x-python",
   "name": "python",
   "nbconvert_exporter": "python",
   "pygments_lexer": "ipython3",
   "version": "3.7.1"
  }
 },
 "nbformat": 4,
 "nbformat_minor": 2
}
